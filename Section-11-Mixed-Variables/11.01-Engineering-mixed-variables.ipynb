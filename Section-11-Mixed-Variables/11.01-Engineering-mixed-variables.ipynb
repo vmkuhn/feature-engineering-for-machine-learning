{
 "cells": [
  {
   "cell_type": "markdown",
   "metadata": {},
   "source": [
    "## Engineering mixed variables\n",
    "\n",
    "We've seen that mixed variables are those which values contain both numbers and labels. A mixed variable can contain numbers OR labels in different observations, or numbers AND labels in each observation.\n",
    "\n",
    "For example, the variable vehicle registration is an example of letters and numbers combined in each observation (e.g.,  NK11DGX), whereas the variable number of missed payments as we covered in section 2, is an example of numbers or labels, where the values can be 0, 1, 2 or 3, or A and D.\n",
    "\n",
    "See section 2 on Variable types, lectures on mixed variables for a refresher.\n",
    "\n",
    "### How can we engineer mixed variables?\n",
    "\n",
    "We can sometimes derive meaningful features by extracting the categorical part in one variable and the numerical part in a different variable. Therefore, we obtain 2 variables from the original one. Then we proceed with the derived variables as we would do with any categorical or numerical variable.\n",
    "\n",
    "Let's explore how we can do that."
   ]
  },
  {
   "cell_type": "code",
   "execution_count": 1,
   "metadata": {},
   "outputs": [],
   "source": [
    "import pandas as pd\n",
    "import numpy as np\n",
    "\n",
    "import matplotlib.pyplot as plt"
   ]
  },
  {
   "cell_type": "markdown",
   "metadata": {},
   "source": [
    "### Example 1: the observations of the variable contain either numbers or strings"
   ]
  },
  {
   "cell_type": "code",
   "execution_count": 2,
   "metadata": {},
   "outputs": [
    {
     "data": {
      "text/html": [
       "<div>\n",
       "<style scoped>\n",
       "    .dataframe tbody tr th:only-of-type {\n",
       "        vertical-align: middle;\n",
       "    }\n",
       "\n",
       "    .dataframe tbody tr th {\n",
       "        vertical-align: top;\n",
       "    }\n",
       "\n",
       "    .dataframe thead th {\n",
       "        text-align: right;\n",
       "    }\n",
       "</style>\n",
       "<table border=\"1\" class=\"dataframe\">\n",
       "  <thead>\n",
       "    <tr style=\"text-align: right;\">\n",
       "      <th></th>\n",
       "      <th>id</th>\n",
       "      <th>open_il_24m</th>\n",
       "    </tr>\n",
       "  </thead>\n",
       "  <tbody>\n",
       "    <tr>\n",
       "      <th>0</th>\n",
       "      <td>1077501</td>\n",
       "      <td>C</td>\n",
       "    </tr>\n",
       "    <tr>\n",
       "      <th>1</th>\n",
       "      <td>1077430</td>\n",
       "      <td>A</td>\n",
       "    </tr>\n",
       "    <tr>\n",
       "      <th>2</th>\n",
       "      <td>1077175</td>\n",
       "      <td>A</td>\n",
       "    </tr>\n",
       "    <tr>\n",
       "      <th>3</th>\n",
       "      <td>1076863</td>\n",
       "      <td>A</td>\n",
       "    </tr>\n",
       "    <tr>\n",
       "      <th>4</th>\n",
       "      <td>1075358</td>\n",
       "      <td>A</td>\n",
       "    </tr>\n",
       "  </tbody>\n",
       "</table>\n",
       "</div>"
      ],
      "text/plain": [
       "        id open_il_24m\n",
       "0  1077501           C\n",
       "1  1077430           A\n",
       "2  1077175           A\n",
       "3  1076863           A\n",
       "4  1075358           A"
      ]
     },
     "execution_count": 2,
     "metadata": {},
     "output_type": "execute_result"
    }
   ],
   "source": [
    "# For this part, we will work with the simulated sample we used in section 2\n",
    "\n",
    "# open_il_24m indicates:\n",
    "# \"Number of installment accounts opened in past 24 months\".\n",
    "# Installment accounts are those that, at the moment of acquiring them,\n",
    "# there is a set period and amount of repayments agreed between the\n",
    "# lender and borrower. An example of this is a car loan, or a student loan.\n",
    "# the borrowers know that they are going to pay a fixed amount over a fixed period\n",
    "\n",
    "data = pd.read_csv('../sample_s2.csv')\n",
    "\n",
    "data.head()"
   ]
  },
  {
   "cell_type": "code",
   "execution_count": 3,
   "metadata": {
    "scrolled": true
   },
   "outputs": [
    {
     "data": {
      "text/plain": [
       "array(['C', 'A', 'B', '0.0', '1.0', '2.0', '4.0', '3.0', '6.0', '5.0',\n",
       "       '9.0', '7.0', '8.0', '13.0', '10.0', '19.0', '11.0', '12.0',\n",
       "       '14.0', '15.0'], dtype=object)"
      ]
     },
     "execution_count": 3,
     "metadata": {},
     "output_type": "execute_result"
    }
   ],
   "source": [
    "# let's inspect the mixed variable\n",
    "\n",
    "data['open_il_24m'].unique()"
   ]
  },
  {
   "cell_type": "markdown",
   "metadata": {},
   "source": [
    "The variable is mixed: some observations show numbers as values whereas others show one of three codes which meanings are depicted below."
   ]
  },
  {
   "cell_type": "code",
   "execution_count": 4,
   "metadata": {},
   "outputs": [],
   "source": [
    "# Fictitious meaning of the different letters / codes:\n",
    "\n",
    "# 'A': couldn't identify the person\n",
    "# 'B': no relevant data\n",
    "# 'C': person seems not to have any account open"
   ]
  },
  {
   "cell_type": "code",
   "execution_count": 5,
   "metadata": {},
   "outputs": [
    {
     "data": {
      "text/plain": [
       "Text(0, 0.5, 'Number of borrowers')"
      ]
     },
     "execution_count": 5,
     "metadata": {},
     "output_type": "execute_result"
    },
    {
     "data": {
      "image/png": "[encoded data removed]",
      "text/plain": [
       "<Figure size 640x480 with 1 Axes>"
      ]
     },
     "metadata": {},
     "output_type": "display_data"
    }
   ],
   "source": [
    "# let's inspect the number of observations per value of the variable\n",
    "\n",
    "fig = data['open_il_24m'].value_counts().plot.bar()\n",
    "fig.set_title('Number of installment accounts open')\n",
    "fig.set_ylabel('Number of borrowers')"
   ]
  },
  {
   "cell_type": "code",
   "execution_count": 6,
   "metadata": {},
   "outputs": [],
   "source": [
    "# extract numerical part\n",
    "data['open_il_24m_numerical'] = pd.to_numeric(data[\"open_il_24m\"],\n",
    "                                              errors='coerce',\n",
    "                                              downcast='integer')"
   ]
  },
  {
   "cell_type": "code",
   "execution_count": 7,
   "metadata": {},
   "outputs": [
    {
     "data": {
      "text/html": [
       "<div>\n",
       "<style scoped>\n",
       "    .dataframe tbody tr th:only-of-type {\n",
       "        vertical-align: middle;\n",
       "    }\n",
       "\n",
       "    .dataframe tbody tr th {\n",
       "        vertical-align: top;\n",
       "    }\n",
       "\n",
       "    .dataframe thead th {\n",
       "        text-align: right;\n",
       "    }\n",
       "</style>\n",
       "<table border=\"1\" class=\"dataframe\">\n",
       "  <thead>\n",
       "    <tr style=\"text-align: right;\">\n",
       "      <th></th>\n",
       "      <th>id</th>\n",
       "      <th>open_il_24m</th>\n",
       "      <th>open_il_24m_numerical</th>\n",
       "      <th>open_il_24m_categorical</th>\n",
       "    </tr>\n",
       "  </thead>\n",
       "  <tbody>\n",
       "    <tr>\n",
       "      <th>0</th>\n",
       "      <td>1077501</td>\n",
       "      <td>C</td>\n",
       "      <td>NaN</td>\n",
       "      <td>C</td>\n",
       "    </tr>\n",
       "    <tr>\n",
       "      <th>1</th>\n",
       "      <td>1077430</td>\n",
       "      <td>A</td>\n",
       "      <td>NaN</td>\n",
       "      <td>A</td>\n",
       "    </tr>\n",
       "    <tr>\n",
       "      <th>2</th>\n",
       "      <td>1077175</td>\n",
       "      <td>A</td>\n",
       "      <td>NaN</td>\n",
       "      <td>A</td>\n",
       "    </tr>\n",
       "    <tr>\n",
       "      <th>3</th>\n",
       "      <td>1076863</td>\n",
       "      <td>A</td>\n",
       "      <td>NaN</td>\n",
       "      <td>A</td>\n",
       "    </tr>\n",
       "    <tr>\n",
       "      <th>4</th>\n",
       "      <td>1075358</td>\n",
       "      <td>A</td>\n",
       "      <td>NaN</td>\n",
       "      <td>A</td>\n",
       "    </tr>\n",
       "  </tbody>\n",
       "</table>\n",
       "</div>"
      ],
      "text/plain": [
       "        id open_il_24m  open_il_24m_numerical open_il_24m_categorical\n",
       "0  1077501           C                    NaN                       C\n",
       "1  1077430           A                    NaN                       A\n",
       "2  1077175           A                    NaN                       A\n",
       "3  1076863           A                    NaN                       A\n",
       "4  1075358           A                    NaN                       A"
      ]
     },
     "execution_count": 7,
     "metadata": {},
     "output_type": "execute_result"
    }
   ],
   "source": [
    "# extract categorical part\n",
    "data['open_il_24m_categorical'] = np.where(data['open_il_24m_numerical'].isnull(),\n",
    "                                           data['open_il_24m'],\n",
    "                                           np.nan)\n",
    "\n",
    "data.head()"
   ]
  },
  {
   "cell_type": "markdown",
   "metadata": {},
   "source": [
    "Note how in the observation where the categorical variable displays a value, the numerical variable contains NA, and vice versa."
   ]
  },
  {
   "cell_type": "code",
   "execution_count": 9,
   "metadata": {
    "scrolled": true
   },
   "outputs": [
    {
     "data": {
      "text/html": [
       "<div>\n",
       "<style scoped>\n",
       "    .dataframe tbody tr th:only-of-type {\n",
       "        vertical-align: middle;\n",
       "    }\n",
       "\n",
       "    .dataframe tbody tr th {\n",
       "        vertical-align: top;\n",
       "    }\n",
       "\n",
       "    .dataframe thead th {\n",
       "        text-align: right;\n",
       "    }\n",
       "</style>\n",
       "<table border=\"1\" class=\"dataframe\">\n",
       "  <thead>\n",
       "    <tr style=\"text-align: right;\">\n",
       "      <th></th>\n",
       "      <th>id</th>\n",
       "      <th>open_il_24m</th>\n",
       "      <th>open_il_24m_numerical</th>\n",
       "      <th>open_il_24m_categorical</th>\n",
       "    </tr>\n",
       "  </thead>\n",
       "  <tbody>\n",
       "    <tr>\n",
       "      <th>466285</th>\n",
       "      <td>68444620</td>\n",
       "      <td>0.0</td>\n",
       "      <td>0.0</td>\n",
       "      <td>NaN</td>\n",
       "    </tr>\n",
       "    <tr>\n",
       "      <th>466286</th>\n",
       "      <td>68547583</td>\n",
       "      <td>1.0</td>\n",
       "      <td>1.0</td>\n",
       "      <td>NaN</td>\n",
       "    </tr>\n",
       "    <tr>\n",
       "      <th>466287</th>\n",
       "      <td>67849662</td>\n",
       "      <td>0.0</td>\n",
       "      <td>0.0</td>\n",
       "      <td>NaN</td>\n",
       "    </tr>\n",
       "    <tr>\n",
       "      <th>466288</th>\n",
       "      <td>68506885</td>\n",
       "      <td>2.0</td>\n",
       "      <td>2.0</td>\n",
       "      <td>NaN</td>\n",
       "    </tr>\n",
       "    <tr>\n",
       "      <th>466289</th>\n",
       "      <td>68341763</td>\n",
       "      <td>4.0</td>\n",
       "      <td>4.0</td>\n",
       "      <td>NaN</td>\n",
       "    </tr>\n",
       "  </tbody>\n",
       "</table>\n",
       "</div>"
      ],
      "text/plain": [
       "              id open_il_24m  open_il_24m_numerical open_il_24m_categorical\n",
       "466285  68444620         0.0                    0.0                     NaN\n",
       "466286  68547583         1.0                    1.0                     NaN\n",
       "466287  67849662         0.0                    0.0                     NaN\n",
       "466288  68506885         2.0                    2.0                     NaN\n",
       "466289  68341763         4.0                    4.0                     NaN"
      ]
     },
     "execution_count": 9,
     "metadata": {},
     "output_type": "execute_result"
    }
   ],
   "source": [
    "# let's inspect those instances of the dataset where numerical is not null\n",
    "# when the numerical variable is not null the categorical is null\n",
    "# and vice versa\n",
    "\n",
    "data.dropna(subset = ['open_il_24m_numerical'], axis=0).head()"
   ]
  },
  {
   "cell_type": "code",
   "execution_count": 10,
   "metadata": {},
   "outputs": [
    {
     "data": {
      "text/plain": [
       "id                         0.000000\n",
       "open_il_24m                0.000000\n",
       "open_il_24m_numerical      0.975916\n",
       "open_il_24m_categorical    0.024084\n",
       "dtype: float64"
      ]
     },
     "execution_count": 10,
     "metadata": {},
     "output_type": "execute_result"
    }
   ],
   "source": [
    "# let's inspect the missing data in the new variables:\n",
    "# when the numerical variable is not null the categorical is null\n",
    "# and vice versa\n",
    "\n",
    "data.isnull().mean()"
   ]
  },
  {
   "cell_type": "markdown",
   "metadata": {},
   "source": [
    "### Example 1: the observations of the variable contain numbers and strings"
   ]
  },
  {
   "cell_type": "code",
   "execution_count": 11,
   "metadata": {},
   "outputs": [
    {
     "data": {
      "text/html": [
       "<div>\n",
       "<style scoped>\n",
       "    .dataframe tbody tr th:only-of-type {\n",
       "        vertical-align: middle;\n",
       "    }\n",
       "\n",
       "    .dataframe tbody tr th {\n",
       "        vertical-align: top;\n",
       "    }\n",
       "\n",
       "    .dataframe thead th {\n",
       "        text-align: right;\n",
       "    }\n",
       "</style>\n",
       "<table border=\"1\" class=\"dataframe\">\n",
       "  <thead>\n",
       "    <tr style=\"text-align: right;\">\n",
       "      <th></th>\n",
       "      <th>survived</th>\n",
       "      <th>ticket</th>\n",
       "      <th>cabin</th>\n",
       "    </tr>\n",
       "  </thead>\n",
       "  <tbody>\n",
       "    <tr>\n",
       "      <th>0</th>\n",
       "      <td>1</td>\n",
       "      <td>24160</td>\n",
       "      <td>B5</td>\n",
       "    </tr>\n",
       "    <tr>\n",
       "      <th>1</th>\n",
       "      <td>1</td>\n",
       "      <td>113781</td>\n",
       "      <td>C22</td>\n",
       "    </tr>\n",
       "    <tr>\n",
       "      <th>2</th>\n",
       "      <td>0</td>\n",
       "      <td>113781</td>\n",
       "      <td>C22</td>\n",
       "    </tr>\n",
       "    <tr>\n",
       "      <th>3</th>\n",
       "      <td>0</td>\n",
       "      <td>113781</td>\n",
       "      <td>C22</td>\n",
       "    </tr>\n",
       "    <tr>\n",
       "      <th>4</th>\n",
       "      <td>0</td>\n",
       "      <td>113781</td>\n",
       "      <td>C22</td>\n",
       "    </tr>\n",
       "  </tbody>\n",
       "</table>\n",
       "</div>"
      ],
      "text/plain": [
       "   survived  ticket cabin\n",
       "0         1   24160    B5\n",
       "1         1  113781   C22\n",
       "2         0  113781   C22\n",
       "3         0  113781   C22\n",
       "4         0  113781   C22"
      ]
     },
     "execution_count": 11,
     "metadata": {},
     "output_type": "execute_result"
    }
   ],
   "source": [
    "# let's load again the titanic dataset for demonstration\n",
    "\n",
    "data = pd.read_csv('../titanic.csv', usecols=['ticket', 'cabin', 'survived'])\n",
    "\n",
    "data.head()"
   ]
  },
  {
   "cell_type": "code",
   "execution_count": 12,
   "metadata": {},
   "outputs": [
    {
     "data": {
      "text/plain": [
       "array(['B5', 'C22', 'E12', 'D7', 'A36', 'C101', nan, 'C62', 'B35', 'A23',\n",
       "       'B58', 'D15', 'C6', 'D35', 'C148', 'C97', 'B49', 'C99', 'C52', 'T',\n",
       "       'A31', 'C7', 'C103', 'D22', 'E33', 'A21', 'B10', 'B4', 'E40',\n",
       "       'B38', 'E24', 'B51', 'B96', 'C46', 'E31', 'E8', 'B61', 'B77', 'A9',\n",
       "       'C89', 'A14', 'E58', 'E49', 'E52', 'E45', 'B22', 'B26', 'C85',\n",
       "       'E17', 'B71', 'B20', 'A34', 'C86', 'A16', 'A20', 'A18', 'C54',\n",
       "       'C45', 'D20', 'A29', 'C95', 'E25', 'C111', 'C23', 'E36', 'D34',\n",
       "       'D40', 'B39', 'B41', 'B102', 'C123', 'E63', 'C130', 'B86', 'C92',\n",
       "       'A5', 'C51', 'B42', 'C91', 'C125', 'D10', 'B82', 'E50', 'D33',\n",
       "       'C83', 'B94', 'D49', 'D45', 'B69', 'B11', 'E46', 'C39', 'B18',\n",
       "       'D11', 'C93', 'B28', 'C49', 'B52', 'E60', 'C132', 'B37', 'D21',\n",
       "       'D19', 'C124', 'D17', 'B101', 'D28', 'D6', 'D9', 'B80', 'C106',\n",
       "       'B79', 'C47', 'D30', 'C90', 'E38', 'C78', 'C30', 'C118', 'D36',\n",
       "       'D48', 'D47', 'C105', 'B36', 'B30', 'D43', 'B24', 'C2', 'C65',\n",
       "       'B73', 'C104', 'C110', 'C50', 'B3', 'A24', 'A32', 'A11', 'A10',\n",
       "       'B57', 'C28', 'E44', 'A26', 'A6', 'A7', 'C31', 'A19', 'B45', 'E34',\n",
       "       'B78', 'B50', 'C87', 'C116', 'C55', 'D50', 'E68', 'E67', 'C126',\n",
       "       'C68', 'C70', 'C53', 'B19', 'D46', 'D37', 'D26', 'C32', 'C80',\n",
       "       'C82', 'C128', 'E39', 'D', 'F4', 'D56', 'F33', 'E101', 'E77', 'F2',\n",
       "       'D38', 'F', 'E121', 'E10', 'G6', 'F38'], dtype=object)"
      ]
     },
     "execution_count": 12,
     "metadata": {},
     "output_type": "execute_result"
    }
   ],
   "source": [
    "data['cabin'].unique()"
   ]
  },
  {
   "cell_type": "code",
   "execution_count": 13,
   "metadata": {},
   "outputs": [
    {
     "data": {
      "text/plain": [
       "array(['24160', '113781', '19952', '13502', '112050', '11769', 'PC 17609',\n",
       "       'PC 17757', 'PC 17477', '19877', '27042', 'PC 17318', 'PC 17558',\n",
       "       '11813', '13050', '11751', '111369', 'PC 17483', '13905', '11967',\n",
       "       'PC 17760', '110564', '113784', '112277', '36928', '113783',\n",
       "       '110489', 'PC 17608', '113505', '111427', '113054', 'PC 17591',\n",
       "       '112379', 'PC 17610', '16966', '113050', '113798', 'PC 17476',\n",
       "       'PC 17606', 'PC 17755', '695', '113059', '113760', '19924',\n",
       "       '17770', 'W.E.P. 5734', '113806', '110152', 'PC 17594', '112051',\n",
       "       '13508', '110465', '5727', 'PC 17756', '11770', '113791',\n",
       "       'WE/P 5735', '112901', 'PC 17599', '113055', '113804',\n",
       "       'F.C. 12750', '17474', '33638', 'PC 17761', '11755', 'PC 17485',\n",
       "       'PC 17580', '11767', '36947', 'PC 17531', 'PC 17598', '17421',\n",
       "       'PC 17474', '113051', '19950', '113778', 'PC 17611', '17765',\n",
       "       '13568', '13567', '112058', '113803', '111320', '113503', '112378',\n",
       "       'PC 17593', '17453', 'PC 17754', '113780', '112053', 'PC 17582',\n",
       "       'PC 17759', '11765', 'PC 17572', '113796', '36973', '112059',\n",
       "       '16988', '12749', '113038', '17463', '680', '111361', '113789',\n",
       "       '111426', '19943', 'PC 17600', '113572', 'PC 17595', '694',\n",
       "       '113044', '11771', '17464', '11753', '113028', '17465', 'PC 17612',\n",
       "       '17475', '112377', 'PC 17592', '113501', '113801', 'PC 17569',\n",
       "       '110469', '11774', '113773', 'PC 17482', 'PC 17473', 'PC 17604',\n",
       "       '13509', '19928', '13236', '113787', 'PC 17596', '35273', '11752',\n",
       "       '693', 'PC 17758', 'F.C. 12998', '113509', 'PC 17562', '112052',\n",
       "       '113043', '113776', '113786', '19972', 'PC 17607', 'PC 17590',\n",
       "       '111428', '113767', 'PC 17613', 'PC 17585', '13049', 'PC 17603',\n",
       "       '113790', '19988', '111163', '113794', 'PC 17475', '13507',\n",
       "       '13213', '113788', '113792', '17764', '13695', '113056', '21228',\n",
       "       '13214', '113514', '11778', 'PC 17605', '36963', '17466', '110413',\n",
       "       '19996', '2543', 'PC 17601', '111240', '36967', '110813', '113800',\n",
       "       '35281', '113795', 'PC 17597', '113510', '19947', '113807',\n",
       "       'P/PP 3381', '248744', '231945', 'C.A. 34050', '226875', '244346',\n",
       "       '29108', 'C.A. 31030', '28551', 'C.A./SOTON 34068', 'S.O.P. 1166',\n",
       "       '2908', '244358', '230136', '248698', '28404', '28425', '237670',\n",
       "       '211535', '220367', '248733', '29750', '236853', '27849', '234686',\n",
       "       '244310', '236852', '248738', 'F.C.C. 13528', '239853', '28424',\n",
       "       '244252', '248731', 'SC/AH 29037', '237789', '2003', 'W./C. 14263',\n",
       "       '248740', '28034', 'C.A. 31921', 'W./C. 14266', '237249',\n",
       "       'F.C.C. 13534', '29107', 'C.A. 33112', 'S.O.C. 14879', '237668',\n",
       "       '244360', 'SC/PARIS 2167', 'C.A. 31029', '231919', '28403',\n",
       "       '28220', 'SC/PARIS 2149', 'SC/PARIS 2148', '29751', '236854',\n",
       "       '236171', '2926', 'C.A. 15185', '229236', '239854', '237671',\n",
       "       '239865', '28664', '243880', '31028', 'C.A. 30769', '28133',\n",
       "       '28134', '248726', '233866', '12233', '250646', '250647', '250653',\n",
       "       '250649', '248746', '248727', 'S.W./PP 752', 'W/C 14208',\n",
       "       'F.C.C. 13529', '220845', '248706', '250650', '29105', '29104',\n",
       "       '242963', '250643', '26707', '237798', '24065', 'SCO/W 1585',\n",
       "       'SO/C 14885', '243847', '237565', 'C.A. 33111', 'SC/AH Basle 541',\n",
       "       '244367', '226593', '233734', '223596', '219533', '239855',\n",
       "       'C.A. 18723', '250651', '240261', 'SC/Paris 2123', 'SC 1748',\n",
       "       'C.A. 34260', 'SC/Paris 2163', 'C.A. 29566', '235509',\n",
       "       'SC/AH 3085', 'S.O./P.P. 3', '237735', 'S.C./PARIS 2079',\n",
       "       'SC/A.3 2861', '28228', '239059', '237216', '233478', '250644',\n",
       "       'SW/PP 751', '248723', '234360', 'C.A. 24580', '211536', '29011',\n",
       "       '250655', '240276', '237736', '230080', '244368', '218629',\n",
       "       'SC/PARIS 2166', 'C.A. 29395', '28213', 'W./C. 14260',\n",
       "       'SC/PARIS 2146', '244278', 'SC/PARIS 2147', 'SC 14888', '230433',\n",
       "       '28665', 'SC/PARIS 2131', '237393', 'S.O./P.P. 2', '234604',\n",
       "       'C.A. 34644', 'SC/PARIS 2168', '26360', 'C.A. 17248', '31027',\n",
       "       '230434', 'SC/PARIS 2133', '29106', 'W./C. 14258', '28004',\n",
       "       'C.A. 31026', '248659', '244361', '250652', '250648', '237442',\n",
       "       '234818', '28206', '31418', 'C.A. 29178', '237734', 'F.C.C. 13540',\n",
       "       '248734', 'F.C.C. 13531', '233639', '240929', '34218', '11668',\n",
       "       '28221', 'CA 31352', '28666', '239856', 'C.A. 33595', '27267',\n",
       "       '228414', '29103', 'C.A. 34651', 'C.A. 24579', 'SC/PARIS 2159',\n",
       "       '244270', '244373', '220844', '248747', 'C.A. 5547', 'C.A. 2673',\n",
       "       '348125', '348122', 'SOTON/O2 3101284', '2657', 'C 7076', '341826',\n",
       "       '7546', '392091', '2699', '3474', 'SOTON/O2 3101287',\n",
       "       'SOTON/O.Q. 3101311', 'SOTON/O.Q. 3101312', '373450', '2223',\n",
       "       'C 4001', '350046', '347082', '3101281', '347091', '350043',\n",
       "       '347075', '347466', '349202', '349237', '349911',\n",
       "       'SOTON/O.Q. 3101310', '347077', '350054', '2696', '2692',\n",
       "       'SOTON/O.Q. 3101309', '2627', '2694', '347468', '2687', '2679',\n",
       "       '3101278', '2666', 'A/4 31416', '2623', '349248', '2663', '2691',\n",
       "       '330844', '324669', '323951', '347068', 'PP 4348', '2622', '2648',\n",
       "       '1601', '312992', '347090', '349224', '2678', '2664', '364848',\n",
       "       '364849', '54636', '334914', '347471', '3460', 'A/5 21171',\n",
       "       '350045', '364512', '329944', '330920', '365222', '330963',\n",
       "       '315087', '315084', '315091', '315089', '315093', '315086',\n",
       "       '364846', '364858', 'A./5. 2152', '2689', '350042', '350409',\n",
       "       '367231', '368364', '392095', '343275', 'A/5. 13032', '343276',\n",
       "       '2680', 'SOTON/O.Q. 3101307', 'A/5 3540', '371109', '349210',\n",
       "       '349209', '21332', '335097', '370373', '330972', '370369',\n",
       "       'A/5 3536', '349230', '349229', '349231', 'SOTON/OQ 392090',\n",
       "       'C.A. 37671', '364500', 'S.P. 3464', '371362', '315090', '2698',\n",
       "       '7598', '7552', '349228', '382650', '382651', '347080', '349219',\n",
       "       '349203', 'A/4 48871', 'SC/A4 23568', 'A/4 48873', '386525',\n",
       "       '345572', '345774', '345778', 'C.A. 2315', '349250', '349238',\n",
       "       '349225', 'A/5 21172', 'A/5 21175', '330958', '349232', '315088',\n",
       "       '349226', '2686', '370376', 'A/5. 10482', '364516', '368702',\n",
       "       'SOTON/OQ 392083', '349241', '336439', 'S.O./P.P. 752', '347072',\n",
       "       '349912', '347074', '347061', '2674', '2675', '2690', '2695',\n",
       "       'A/5 3902', '2631', 'C.A. 6212', '367232', 'SOTON/O.Q. 3101308',\n",
       "       '350036', '364859', '364851', '368323', '330910', '365235',\n",
       "       'W./C. 6608', 'A/5 1478', '368573', 'SOTON/O.Q. 3101314', '36864',\n",
       "       '358585', '349254', '14973', '35851', '335677', '363291',\n",
       "       'SOTON/O.Q. 3101263', 'SOTON/O.Q. 3101306', 'CA 2144', '21440',\n",
       "       '8471', '376563', '7534', '3101276', '3101277', '347069', '349236',\n",
       "       'AQ/3. 30631', '65303', '65304', 'STON/O2. 3101279', '345769',\n",
       "       '2693', '350026', '350025', '350029', 'W./C. 6609', '374887',\n",
       "       '394140', '370375', '347089', '365226', 'STON/O2. 3101282',\n",
       "       'STON/O2. 3101290', '7548', '349243', '347086', '382649',\n",
       "       '3101298', 'C 7075', 'STON/O2. 3101283', '370377', 'A. 2. 39186',\n",
       "       '348121', '3470', '2685', '349220', 'STON/O2. 3101270',\n",
       "       'STON/O2. 3101271', '349201', '349240', '350034',\n",
       "       'SOTON/O.Q. 3101305', '350050', '350047', '350048', '14313',\n",
       "       '65306', '3101264', '347070', '350052', '7540', '347063', '347467',\n",
       "       '347742', 'LINE', '347062', 'W./C. 6607', '349204', '350417',\n",
       "       '350408', '4136', '4137', 'STON/O 2. 3101286', 'STON/O 2. 3101274',\n",
       "       '8475', '349246', '350053', '347465', '350060', '349256', '2700',\n",
       "       '2682', '12460', '323592', '9234', '14312', '330911', '363592',\n",
       "       '368783', '2660', '367227', '367229', '36865', '315152', '315151',\n",
       "       '315153', '350405', '350404', '349253', '2654', '2624', '4135',\n",
       "       '349217', 'C 7077', '7935', '7545', '347067', '347065', '2620',\n",
       "       '4133', 'STON/O 2. 3101292', '2683', '370371', '345781', '347071',\n",
       "       '347073', '349910', 'STON/O 2. 3101285', '330971', 'S.O./P.P. 251',\n",
       "       'A/5. 3336', '1222', 'A/5 21173', '315098', '347743', '347469',\n",
       "       '350403', '349235', 'C.A. 42795', '370370', 'C 17369',\n",
       "       'STON/O 2. 3101275', '330924', 'AQ/4 3130', 'A/S 2816',\n",
       "       'STON/O 2. 3101268', '2677', '364850', '36866', '2655', '349213',\n",
       "       '349257', '2649', '349255', '383123', '367228', '367226', '330932',\n",
       "       '36568', '330931', '330923', '9232', '370372', '376566', '370368',\n",
       "       'SOTON/O.Q. 392087', '343095', 'A.5. 11206', '368703', '345501',\n",
       "       '359306', '349233', '349211', '349207', '349221', '330980',\n",
       "       '348123', '392096', 'A4. 54510', '371110', '330877', '364506',\n",
       "       '372622', '312991', '2661', '2626', '374746', '35852', '382653',\n",
       "       'A./5. 3235', '367230', '347078', '349206', '2667', '2653',\n",
       "       'A./5. 3338', '349218', '2652', '365237', '349234', '2651',\n",
       "       '3101297', '363611', '347066', '347470', '350410',\n",
       "       'SOTON/O2 3101272', 'STON/O 2. 3101289', 'A/4. 39886', '2697',\n",
       "       '347081', '345364', '370365', '330979', '334912', '371060',\n",
       "       '366713', '7267', '364856', '14311', '330959', '347085', '368402',\n",
       "       '330919', 'C 17368', '4579', 'Fa 265302', '350407', '347464',\n",
       "       '347079', '6563', '315085', '315096', '315094', '349244', '330909',\n",
       "       '349909', '3101295', '315097', '3411', '349242',\n",
       "       'SOTON/O.Q. 3101315', '343271', '345498', 'A/5 2817',\n",
       "       'STON/O 2. 3101294', 'STON/O 2. 3101291', 'A/5 21174', '347083',\n",
       "       '2668', '330935', '342441', '349245', '349212', '349215', '347076',\n",
       "       '347087', 'SOTON/O.Q. 392078', '349227', '315095', '315092',\n",
       "       '349223', '65305', '2629', '362316', '349249', '342684', '382652',\n",
       "       'STON/O 2. 3101273', '334915', '364498', 'A/5. 3337',\n",
       "       'S.C./A.4. 23567', '312993', '370129', '342712', 'A/5 3594',\n",
       "       'A/4. 20589', '383162', '2671', '2672', '2676', '367655',\n",
       "       'LP 1588', 'SOTON/O.Q. 3101262', 'CA. 2343', '7266', '343120',\n",
       "       '3101296', '2662', 'PP 9549', '345768', 'A/5. 2151', '342826',\n",
       "       '36209', '349222', '370374', '345779', '330968', '374910',\n",
       "       'SOTON/OQ 392082', '2669', '392092', '349251', 'STON/O 2. 3101280',\n",
       "       '3101265', '347088', '349214', 'SOTON/OQ 392086', '315037',\n",
       "       '384461', '335432', '348124', 'A.5. 18509', 'A.5. 3236',\n",
       "       'STON/OQ. 369943', '349208', '349239', 'CA. 2314', 'A/4 45380',\n",
       "       '3701', '349205', '7553', 'STON/O 2. 3101288', '315083', '347054',\n",
       "       'SOTON/OQ 392089', 'STON/O 2. 3101269', 'SOTON/OQ 392076',\n",
       "       '347060', '7538', '350035', '350033', '363294', '2625', '2621',\n",
       "       '2681', '2684', '32302', '376564', 'STON/O 2. 3101293', '383121',\n",
       "       '349216', '364499', '364511', '2673', '2641', '2650', '349247',\n",
       "       '4138', '4134', 'A/5. 851', '345773', '345777', '345780', '345770',\n",
       "       '345783', '345765', '345764', '345763', '2658', '350416', '350406',\n",
       "       '349252', '345767', '359309', 'C.A. 49867', 'SOTON/OQ 3101316',\n",
       "       '345775', '2688', '347064', '3101267', '3101266', '363272', '3410',\n",
       "       'S.O./P.P. 751', 'A/5 2466', 'SOTON/OQ 3101317', '315154',\n",
       "       'A/4. 34244', '345771', '2659', '2628', '2647', '2665', '2656',\n",
       "       '2670', '315082'], dtype=object)"
      ]
     },
     "execution_count": 13,
     "metadata": {},
     "output_type": "execute_result"
    }
   ],
   "source": [
    "data['ticket'].unique()"
   ]
  },
  {
   "cell_type": "markdown",
   "metadata": {},
   "source": [
    "Both cabin and ticket contain a numerical part and a categorical part in their values."
   ]
  },
  {
   "cell_type": "code",
   "execution_count": 14,
   "metadata": {},
   "outputs": [
    {
     "data": {
      "text/html": [
       "<div>\n",
       "<style scoped>\n",
       "    .dataframe tbody tr th:only-of-type {\n",
       "        vertical-align: middle;\n",
       "    }\n",
       "\n",
       "    .dataframe tbody tr th {\n",
       "        vertical-align: top;\n",
       "    }\n",
       "\n",
       "    .dataframe thead th {\n",
       "        text-align: right;\n",
       "    }\n",
       "</style>\n",
       "<table border=\"1\" class=\"dataframe\">\n",
       "  <thead>\n",
       "    <tr style=\"text-align: right;\">\n",
       "      <th></th>\n",
       "      <th>cabin</th>\n",
       "      <th>cabin_num</th>\n",
       "      <th>cabin_cat</th>\n",
       "    </tr>\n",
       "  </thead>\n",
       "  <tbody>\n",
       "    <tr>\n",
       "      <th>0</th>\n",
       "      <td>B5</td>\n",
       "      <td>5</td>\n",
       "      <td>B</td>\n",
       "    </tr>\n",
       "    <tr>\n",
       "      <th>1</th>\n",
       "      <td>C22</td>\n",
       "      <td>22</td>\n",
       "      <td>C</td>\n",
       "    </tr>\n",
       "    <tr>\n",
       "      <th>2</th>\n",
       "      <td>C22</td>\n",
       "      <td>22</td>\n",
       "      <td>C</td>\n",
       "    </tr>\n",
       "    <tr>\n",
       "      <th>3</th>\n",
       "      <td>C22</td>\n",
       "      <td>22</td>\n",
       "      <td>C</td>\n",
       "    </tr>\n",
       "    <tr>\n",
       "      <th>4</th>\n",
       "      <td>C22</td>\n",
       "      <td>22</td>\n",
       "      <td>C</td>\n",
       "    </tr>\n",
       "  </tbody>\n",
       "</table>\n",
       "</div>"
      ],
      "text/plain": [
       "  cabin cabin_num cabin_cat\n",
       "0    B5         5         B\n",
       "1   C22        22         C\n",
       "2   C22        22         C\n",
       "3   C22        22         C\n",
       "4   C22        22         C"
      ]
     },
     "execution_count": 14,
     "metadata": {},
     "output_type": "execute_result"
    }
   ],
   "source": [
    "# let's extract the numerical and categorical part for cabin\n",
    "\n",
    "data['cabin_num'] = data['cabin'].str.extract('(\\d+)') # captures numerical part\n",
    "data['cabin_cat'] = data['cabin'].str[0] # captures the first letter\n",
    "\n",
    "data[['cabin', 'cabin_num', 'cabin_cat']].head()"
   ]
  },
  {
   "cell_type": "code",
   "execution_count": 15,
   "metadata": {},
   "outputs": [
    {
     "data": {
      "text/html": [
       "<div>\n",
       "<style scoped>\n",
       "    .dataframe tbody tr th:only-of-type {\n",
       "        vertical-align: middle;\n",
       "    }\n",
       "\n",
       "    .dataframe tbody tr th {\n",
       "        vertical-align: top;\n",
       "    }\n",
       "\n",
       "    .dataframe thead th {\n",
       "        text-align: right;\n",
       "    }\n",
       "</style>\n",
       "<table border=\"1\" class=\"dataframe\">\n",
       "  <thead>\n",
       "    <tr style=\"text-align: right;\">\n",
       "      <th></th>\n",
       "      <th>ticket</th>\n",
       "      <th>ticket_num</th>\n",
       "      <th>ticket_cat</th>\n",
       "    </tr>\n",
       "  </thead>\n",
       "  <tbody>\n",
       "    <tr>\n",
       "      <th>0</th>\n",
       "      <td>24160</td>\n",
       "      <td>24160.0</td>\n",
       "      <td>NaN</td>\n",
       "    </tr>\n",
       "    <tr>\n",
       "      <th>1</th>\n",
       "      <td>113781</td>\n",
       "      <td>113781.0</td>\n",
       "      <td>NaN</td>\n",
       "    </tr>\n",
       "    <tr>\n",
       "      <th>2</th>\n",
       "      <td>113781</td>\n",
       "      <td>113781.0</td>\n",
       "      <td>NaN</td>\n",
       "    </tr>\n",
       "    <tr>\n",
       "      <th>3</th>\n",
       "      <td>113781</td>\n",
       "      <td>113781.0</td>\n",
       "      <td>NaN</td>\n",
       "    </tr>\n",
       "    <tr>\n",
       "      <th>4</th>\n",
       "      <td>113781</td>\n",
       "      <td>113781.0</td>\n",
       "      <td>NaN</td>\n",
       "    </tr>\n",
       "    <tr>\n",
       "      <th>5</th>\n",
       "      <td>19952</td>\n",
       "      <td>19952.0</td>\n",
       "      <td>NaN</td>\n",
       "    </tr>\n",
       "    <tr>\n",
       "      <th>6</th>\n",
       "      <td>13502</td>\n",
       "      <td>13502.0</td>\n",
       "      <td>NaN</td>\n",
       "    </tr>\n",
       "    <tr>\n",
       "      <th>7</th>\n",
       "      <td>112050</td>\n",
       "      <td>112050.0</td>\n",
       "      <td>NaN</td>\n",
       "    </tr>\n",
       "    <tr>\n",
       "      <th>8</th>\n",
       "      <td>11769</td>\n",
       "      <td>11769.0</td>\n",
       "      <td>NaN</td>\n",
       "    </tr>\n",
       "    <tr>\n",
       "      <th>9</th>\n",
       "      <td>PC 17609</td>\n",
       "      <td>17609.0</td>\n",
       "      <td>PC</td>\n",
       "    </tr>\n",
       "    <tr>\n",
       "      <th>10</th>\n",
       "      <td>PC 17757</td>\n",
       "      <td>17757.0</td>\n",
       "      <td>PC</td>\n",
       "    </tr>\n",
       "    <tr>\n",
       "      <th>11</th>\n",
       "      <td>PC 17757</td>\n",
       "      <td>17757.0</td>\n",
       "      <td>PC</td>\n",
       "    </tr>\n",
       "    <tr>\n",
       "      <th>12</th>\n",
       "      <td>PC 17477</td>\n",
       "      <td>17477.0</td>\n",
       "      <td>PC</td>\n",
       "    </tr>\n",
       "    <tr>\n",
       "      <th>13</th>\n",
       "      <td>19877</td>\n",
       "      <td>19877.0</td>\n",
       "      <td>NaN</td>\n",
       "    </tr>\n",
       "    <tr>\n",
       "      <th>14</th>\n",
       "      <td>27042</td>\n",
       "      <td>27042.0</td>\n",
       "      <td>NaN</td>\n",
       "    </tr>\n",
       "    <tr>\n",
       "      <th>15</th>\n",
       "      <td>PC 17318</td>\n",
       "      <td>17318.0</td>\n",
       "      <td>PC</td>\n",
       "    </tr>\n",
       "    <tr>\n",
       "      <th>16</th>\n",
       "      <td>PC 17558</td>\n",
       "      <td>17558.0</td>\n",
       "      <td>PC</td>\n",
       "    </tr>\n",
       "    <tr>\n",
       "      <th>17</th>\n",
       "      <td>PC 17558</td>\n",
       "      <td>17558.0</td>\n",
       "      <td>PC</td>\n",
       "    </tr>\n",
       "    <tr>\n",
       "      <th>18</th>\n",
       "      <td>11813</td>\n",
       "      <td>11813.0</td>\n",
       "      <td>NaN</td>\n",
       "    </tr>\n",
       "    <tr>\n",
       "      <th>19</th>\n",
       "      <td>13050</td>\n",
       "      <td>13050.0</td>\n",
       "      <td>NaN</td>\n",
       "    </tr>\n",
       "  </tbody>\n",
       "</table>\n",
       "</div>"
      ],
      "text/plain": [
       "      ticket  ticket_num ticket_cat\n",
       "0      24160     24160.0        NaN\n",
       "1     113781    113781.0        NaN\n",
       "2     113781    113781.0        NaN\n",
       "3     113781    113781.0        NaN\n",
       "4     113781    113781.0        NaN\n",
       "5      19952     19952.0        NaN\n",
       "6      13502     13502.0        NaN\n",
       "7     112050    112050.0        NaN\n",
       "8      11769     11769.0        NaN\n",
       "9   PC 17609     17609.0         PC\n",
       "10  PC 17757     17757.0         PC\n",
       "11  PC 17757     17757.0         PC\n",
       "12  PC 17477     17477.0         PC\n",
       "13     19877     19877.0        NaN\n",
       "14     27042     27042.0        NaN\n",
       "15  PC 17318     17318.0         PC\n",
       "16  PC 17558     17558.0         PC\n",
       "17  PC 17558     17558.0         PC\n",
       "18     11813     11813.0        NaN\n",
       "19     13050     13050.0        NaN"
      ]
     },
     "execution_count": 15,
     "metadata": {},
     "output_type": "execute_result"
    }
   ],
   "source": [
    "# let's extract the numerical and categorical part for ticket\n",
    "# the variable ticket is extremely dirty, so there is only so much that we\n",
    "# can do, but here are some ideas:\n",
    "\n",
    "# extract the last bit of ticket as number\n",
    "data['ticket_num'] = data['ticket'].apply(lambda s: s.split()[-1])\n",
    "data['ticket_num'] = pd.to_numeric(data['ticket_num'],\n",
    "                                   errors='coerce',\n",
    "                                   downcast='integer')\n",
    "\n",
    "# extract the first part of ticket as category\n",
    "data['ticket_cat'] = data['ticket'].apply(lambda s: s.split()[0])\n",
    "data['ticket_cat'] = np.where(data['ticket_cat'].str.isdigit(), np.nan,\n",
    "                              data['ticket_cat'])\n",
    "\n",
    "data[['ticket', 'ticket_num', 'ticket_cat']].head(20)"
   ]
  },
  {
   "cell_type": "code",
   "execution_count": 16,
   "metadata": {},
   "outputs": [
    {
     "data": {
      "text/plain": [
       "array([nan, 'PC', 'W.E.P.', 'WE/P', 'F.C.', 'P/PP', 'C.A.', 'C.A./SOTON',\n",
       "       'S.O.P.', 'F.C.C.', 'SC/AH', 'W./C.', 'S.O.C.', 'SC/PARIS',\n",
       "       'S.W./PP', 'W/C', 'SCO/W', 'SO/C', 'SC/Paris', 'SC', 'S.O./P.P.',\n",
       "       'S.C./PARIS', 'SC/A.3', 'SW/PP', 'CA', 'SOTON/O2', 'C',\n",
       "       'SOTON/O.Q.', 'A/4', 'PP', 'A/5', 'A./5.', 'A/5.', 'SOTON/OQ',\n",
       "       'S.P.', 'SC/A4', 'AQ/3.', 'STON/O2.', 'A.', 'LINE', 'STON/O',\n",
       "       'AQ/4', 'A/S', 'A.5.', 'A4.', 'A/4.', 'Fa', 'S.C./A.4.', 'LP',\n",
       "       'CA.', 'STON/OQ.'], dtype=object)"
      ]
     },
     "execution_count": 16,
     "metadata": {},
     "output_type": "execute_result"
    }
   ],
   "source": [
    "data['ticket_cat'].unique()"
   ]
  },
  {
   "cell_type": "code",
   "execution_count": 17,
   "metadata": {},
   "outputs": [
    {
     "data": {
      "text/plain": [
       "<AxesSubplot: >"
      ]
     },
     "execution_count": 17,
     "metadata": {},
     "output_type": "execute_result"
    },
    {
     "data": {
      "image/png": "[encoded data removed]",
      "text/plain": [
       "<Figure size 640x480 with 1 Axes>"
      ]
     },
     "metadata": {},
     "output_type": "display_data"
    }
   ],
   "source": [
    "data['ticket_num'].hist(bins=50)"
   ]
  },
  {
   "cell_type": "code",
   "execution_count": null,
   "metadata": {},
   "outputs": [],
   "source": []
  }
 ],
 "metadata": {
  "kernelspec": {
   "display_name": "Python 3.9.14 ('feat_eng': venv)",
   "language": "python",
   "name": "python3"
  },
  "language_info": {
   "codemirror_mode": {
    "name": "ipython",
    "version": 3
   },
   "file_extension": ".py",
   "mimetype": "text/x-python",
   "name": "python",
   "nbconvert_exporter": "python",
   "pygments_lexer": "ipython3",
   "version": "3.9.14"
  },
  "toc": {
   "nav_menu": {},
   "number_sections": true,
   "sideBar": true,
   "skip_h1_title": false,
   "toc_cell": false,
   "toc_position": {},
   "toc_section_display": "block",
   "toc_window_display": true
  },
  "vscode": {
   "interpreter": {
    "hash": "d63a9c267cde025ea13b114626bcee230b2a8f7a5dd4ab0ed32600717d58a84f"
   }
  }
 },
 "nbformat": 4,
 "nbformat_minor": 1
}
